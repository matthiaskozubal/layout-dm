{
 "cells": [
  {
   "attachments": {},
   "cell_type": "markdown",
   "metadata": {},
   "source": [
    "# Setup"
   ]
  },
  {
   "cell_type": "code",
   "execution_count": 23,
   "metadata": {},
   "outputs": [],
   "source": [
    "import os\n",
    "import torch\n",
    "import matplotlib.pyplot as plt\n",
    "from trainer.global_configs import DATASET_DIR, ROOT"
   ]
  },
  {
   "attachments": {},
   "cell_type": "markdown",
   "metadata": {},
   "source": [
    "# Tests"
   ]
  },
  {
   "cell_type": "code",
   "execution_count": 16,
   "metadata": {},
   "outputs": [],
   "source": [
    "tensor_path = os.path.join(DATASET_DIR, 'publaynet-max25/processed/train.pt')\n",
    "tensor = torch.load(tensor_path)"
   ]
  },
  {
   "cell_type": "code",
   "execution_count": 17,
   "metadata": {},
   "outputs": [
    {
     "name": "stdout",
     "output_type": "stream",
     "text": [
      "0, type <class 'torch_geometric.data.data.Data'>:\n",
      "Data(\n",
      "  x=[3033717, 4],\n",
      "  y=[3033717],\n",
      "  attr={\n",
      "    name=[315757],\n",
      "    width=[315757],\n",
      "    height=[315757],\n",
      "    filtered=[315757],\n",
      "    has_canvas_element=[315757],\n",
      "    NoiseAdded=[315757]\n",
      "  }\n",
      ")\n",
      "\n",
      "1, type <class 'collections.defaultdict'>:\n",
      "defaultdict(<class 'dict'>, {'x': tensor([      0,       8,      13,  ..., 3033696, 3033710, 3033717]), 'y': tensor([      0,       8,      13,  ..., 3033696, 3033710, 3033717]), 'attr': {'name': tensor([     0,      1,      2,  ..., 315755, 315756, 315757]), 'width': tensor([     0,      1,      2,  ..., 315755, 315756, 315757]), 'height': tensor([     0,      1,      2,  ..., 315755, 315756, 315757]), 'filtered': tensor([     0,      1,      2,  ..., 315755, 315756, 315757]), 'has_canvas_element': tensor([     0,      1,      2,  ..., 315755, 315756, 315757]), 'NoiseAdded': tensor([     0,      1,      2,  ..., 315755, 315756, 315757])}})\n",
      "\n"
     ]
    }
   ],
   "source": [
    "def enum_tup(nest_tup, pref=''):\n",
    "    for idx, elem in enumerate(nest_tup):\n",
    "        if isinstance(elem, tuple):\n",
    "            enum_nest_tups(elem, pref=f'{pref}{idx}')\n",
    "        else:\n",
    "            print(f'{pref}{idx}, type {type(elem)}:\\n{elem}\\n')  \n",
    "\n",
    "enum_tup(tensor)        "
   ]
  },
  {
   "cell_type": "code",
   "execution_count": 18,
   "metadata": {},
   "outputs": [
    {
     "name": "stdout",
     "output_type": "stream",
     "text": [
      "dict_keys(['x', 'y', 'attr'])\n",
      "dict_keys(['name', 'width', 'height', 'filtered', 'has_canvas_element', 'NoiseAdded'])\n"
     ]
    }
   ],
   "source": [
    "print(tensor[1].keys())\n",
    "print(tensor[1]['attr'].keys())"
   ]
  },
  {
   "cell_type": "code",
   "execution_count": 19,
   "metadata": {},
   "outputs": [
    {
     "data": {
      "text/plain": [
       "tensor([     0,      1,      2,  ..., 315755, 315756, 315757])"
      ]
     },
     "execution_count": 19,
     "metadata": {},
     "output_type": "execute_result"
    }
   ],
   "source": [
    "tensor[1]['attr']['name']"
   ]
  },
  {
   "cell_type": "code",
   "execution_count": 20,
   "metadata": {},
   "outputs": [
    {
     "data": {
      "text/plain": [
       "defaultdict(dict,\n",
       "            {'x': tensor([      0,       8,      13,  ..., 3033696, 3033710, 3033717]),\n",
       "             'y': tensor([      0,       8,      13,  ..., 3033696, 3033710, 3033717]),\n",
       "             'attr': {'name': tensor([     0,      1,      2,  ..., 315755, 315756, 315757]),\n",
       "              'width': tensor([     0,      1,      2,  ..., 315755, 315756, 315757]),\n",
       "              'height': tensor([     0,      1,      2,  ..., 315755, 315756, 315757]),\n",
       "              'filtered': tensor([     0,      1,      2,  ..., 315755, 315756, 315757]),\n",
       "              'has_canvas_element': tensor([     0,      1,      2,  ..., 315755, 315756, 315757]),\n",
       "              'NoiseAdded': tensor([     0,      1,      2,  ..., 315755, 315756, 315757])}})"
      ]
     },
     "execution_count": 20,
     "metadata": {},
     "output_type": "execute_result"
    }
   ],
   "source": [
    "tensor[1]"
   ]
  },
  {
   "cell_type": "code",
   "execution_count": 21,
   "metadata": {},
   "outputs": [
    {
     "data": {
      "text/plain": [
       "tensor([     0,      1,      2,  ..., 315755, 315756, 315757])"
      ]
     },
     "execution_count": 21,
     "metadata": {},
     "output_type": "execute_result"
    }
   ],
   "source": [
    "tensor[1]['attr']['height']"
   ]
  }
 ],
 "metadata": {
  "kernelspec": {
   "display_name": "layout-dm",
   "language": "python",
   "name": "python3"
  },
  "language_info": {
   "codemirror_mode": {
    "name": "ipython",
    "version": 3
   },
   "file_extension": ".py",
   "mimetype": "text/x-python",
   "name": "python",
   "nbconvert_exporter": "python",
   "pygments_lexer": "ipython3",
   "version": "3.7.16"
  },
  "orig_nbformat": 4
 },
 "nbformat": 4,
 "nbformat_minor": 2
}

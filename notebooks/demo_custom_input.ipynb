{
 "cells": [
  {
   "cell_type": "markdown",
   "metadata": {},
   "source": [
    "# Setup"
   ]
  },
  {
   "cell_type": "code",
   "execution_count": null,
   "metadata": {},
   "outputs": [],
   "source": [
    "import torch\n",
    "\n",
    "from utils.generate_input_from_data_directory import generate_input_from_data_directory\n",
    "from utils.generate_input_from_tensors import generate_input_from_tensors\n",
    "from utils.predict_layout import predict_layout\n",
    "from utils.combine_elements_based_on_layout_dm import combine_elements_based_on_layout_dm\n",
    "from utils.save_pred_to_json import save_pred_to_json\n",
    "#from utils.print_attrs import print_attrs"
   ]
  },
  {
   "cell_type": "markdown",
   "metadata": {},
   "source": [
    "# Compare input generation methods"
   ]
  },
  {
   "cell_type": "markdown",
   "metadata": {},
   "source": [
    "## 1. generate from tensors (user passed of default)\n"
   ]
  },
  {
   "cell_type": "code",
   "execution_count": null,
   "metadata": {},
   "outputs": [],
   "source": [
    "custom_input_from_tensor_default = generate_input_from_tensors(verbatim=True)"
   ]
  },
  {
   "cell_type": "code",
   "execution_count": null,
   "metadata": {},
   "outputs": [],
   "source": [
    "custom_input_from_tensor = generate_input_from_tensors(\n",
    "    bboxes_tensor = torch.FloatTensor([\n",
    "        [0.5, 0.5, 0.1, 0.6],\n",
    "        [0.5, 0.5, 0.6, 0.1],\n",
    "        [0.5, 0.5, 0.2, 0.2],\n",
    "        [0.5, 0.5, 0.4, 0.4],\n",
    "        [0.8, 0.8, 0.1, 0.1],\n",
    "        [0.2, 0.2, 0.1, 0.1]\n",
    "    ]),\n",
    "    labels_tensor = torch.LongTensor([0, 1, 6, 4, 0, 0]),\n",
    "    verbatim=True\n",
    ")"
   ]
  },
  {
   "cell_type": "markdown",
   "metadata": {},
   "source": [
    "## 2. generate based on files from data directory"
   ]
  },
  {
   "cell_type": "code",
   "execution_count": null,
   "metadata": {},
   "outputs": [],
   "source": [
    "custom_input_from_data_directory, list_files = generate_input_from_data_directory(verbatim=True)"
   ]
  },
  {
   "cell_type": "markdown",
   "metadata": {},
   "source": [
    "# Comaparison of models "
   ]
  },
  {
   "cell_type": "markdown",
   "metadata": {},
   "source": [
    "## 1. Trained on Rico dataset (default)\n",
    "`model_name = layoutdm_publaynet`"
   ]
  },
  {
   "cell_type": "markdown",
   "metadata": {},
   "source": [
    "### 1.1. Condition type 'c'\n",
    "C -> S+P (reposition and resize)"
   ]
  },
  {
   "cell_type": "code",
   "execution_count": null,
   "metadata": {},
   "outputs": [],
   "source": [
    "pred = predict_layout(custom_input_from_tensor_default, model_name='layoutdm_rico', cond_type='c', plot_images=True, print_output=False)"
   ]
  },
  {
   "cell_type": "markdown",
   "metadata": {},
   "source": [
    "### 1.2. Condition type 'cwh'\n",
    "C+S -> P (reposition and dont' resize)"
   ]
  },
  {
   "cell_type": "code",
   "execution_count": null,
   "metadata": {},
   "outputs": [],
   "source": [
    "pred = predict_layout(custom_input_from_tensor_default, model_name='layoutdm_rico', cond_type='cwh', plot_images=True, print_output=False)"
   ]
  },
  {
   "cell_type": "markdown",
   "metadata": {},
   "source": [
    "## 2. Trained on PubLayNet dataset\n",
    "`model_name = layoutdm_publaynet`"
   ]
  },
  {
   "cell_type": "markdown",
   "metadata": {},
   "source": [
    "### 2.1. Condition type 'c'\n",
    "C -> S+P (reposition and resize)"
   ]
  },
  {
   "cell_type": "code",
   "execution_count": null,
   "metadata": {},
   "outputs": [],
   "source": [
    "pred = predict_layout(custom_input_from_tensor_default, model_name='layoutdm_publaynet', cond_type='c', plot_images=True, print_output=False)"
   ]
  },
  {
   "cell_type": "markdown",
   "metadata": {},
   "source": [
    "### 2.2. Condition type 'cwh'\n",
    "C+S -> P (reposition and dont' resize)"
   ]
  },
  {
   "cell_type": "code",
   "execution_count": null,
   "metadata": {},
   "outputs": [],
   "source": [
    "pred = predict_layout(custom_input_from_tensor_default, model_name='layoutdm_publaynet', cond_type='cwh', plot_images=True, print_output=False)"
   ]
  },
  {
   "cell_type": "markdown",
   "metadata": {},
   "source": [
    "# Recommened approach\n",
    "\n",
    "Recommendations:\n",
    "- model:            Rico\n",
    "- condition typ:    cwh (\"C+S -> P\": reposition without resizing)\n",
    "    \n",
    "Optional:\n",
    "- W_CANVAS\n",
    "- n_samples (default: 4)"
   ]
  },
  {
   "cell_type": "markdown",
   "metadata": {},
   "source": [
    "## input\n",
    "generate input tensors from objects in /data/"
   ]
  },
  {
   "cell_type": "code",
   "execution_count": null,
   "metadata": {},
   "outputs": [],
   "source": [
    "custom_input, list_files = generate_input_from_data_directory(verbatim=True)"
   ]
  },
  {
   "cell_type": "markdown",
   "metadata": {},
   "source": [
    "## output\n",
    "predict layouts using layoutdm for objects in /data/"
   ]
  },
  {
   "cell_type": "code",
   "execution_count": null,
   "metadata": {},
   "outputs": [],
   "source": [
    "pred = predict_layout(custom_input,\n",
    "                      model_name='layoutdm_rico',\n",
    "                      cond_type='cwh',\n",
    "                      plot_images=True,\n",
    "                      print_output=False,\n",
    "                      n_samples=10)"
   ]
  },
  {
   "cell_type": "markdown",
   "metadata": {},
   "source": [
    "## save\n",
    "the predicted layouts from layoutdm in a json format (predicted_layouts.json)"
   ]
  },
  {
   "cell_type": "code",
   "execution_count": null,
   "metadata": {},
   "outputs": [],
   "source": [
    "predicted_layouts = save_pred_to_json(list_files, pred, verbatim=False)"
   ]
  },
  {
   "cell_type": "markdown",
   "metadata": {},
   "source": [
    "## combine \n",
    "combine the input elements into the output png file, based on the layoutdm predicted layouts (predicted_layouts.json)"
   ]
  },
  {
   "cell_type": "code",
   "execution_count": null,
   "metadata": {},
   "outputs": [],
   "source": [
    "combine_elements_based_on_layout_dm(predicted_layouts)"
   ]
  },
  {
   "cell_type": "markdown",
   "metadata": {},
   "source": [
    "# tests"
   ]
  },
  {
   "cell_type": "code",
   "execution_count": 3,
   "metadata": {},
   "outputs": [
    {
     "data": {
      "image/png": "[encoded data removed]",
      "text/plain": [
       "<Figure size 640x480 with 1 Axes>"
      ]
     },
     "metadata": {},
     "output_type": "display_data"
    }
   ],
   "source": [
    "from utils.generate_input_from_data_directory import generate_input_from_data_directory\n",
    "from utils.predict_layout import predict_layout\n",
    "from utils.combine_elements_based_on_layout_dm import combine_elements_based_on_layout_dm\n",
    "from utils.save_pred_to_json import save_pred_to_json\n",
    "\n",
    "custom_input, list_files = generate_input_from_data_directory()\n",
    "pred = predict_layout(custom_input,\n",
    "                      model_name='layoutdm_rico',\n",
    "                      cond_type='cwh',\n",
    "                      plot_images=True,\n",
    "                      print_output=False,\n",
    "                      n_samples=4)\n",
    "predicted_layouts = save_pred_to_json(list_files, pred, verbatim=False)\n",
    "combine_elements_based_on_layout_dm(predicted_layouts, verbatim=True)"
   ]
  }
 ],
 "metadata": {
  "kernelspec": {
   "display_name": "layout-dm",
   "language": "python",
   "name": "python3"
  },
  "language_info": {
   "codemirror_mode": {
    "name": "ipython",
    "version": 3
   },
   "file_extension": ".py",
   "mimetype": "text/x-python",
   "name": "python",
   "nbconvert_exporter": "python",
   "pygments_lexer": "ipython3",
   "version": "3.7.16"
  },
  "orig_nbformat": 4
 },
 "nbformat": 4,
 "nbformat_minor": 2
}
